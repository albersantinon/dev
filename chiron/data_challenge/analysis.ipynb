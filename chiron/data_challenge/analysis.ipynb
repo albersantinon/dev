{
 "cells": [
  {
   "cell_type": "code",
   "execution_count": 2,
   "metadata": {},
   "outputs": [
    {
     "name": "stdout",
     "output_type": "stream",
     "text": [
      "<class 'pandas.core.frame.DataFrame'>\n",
      "RangeIndex: 7 entries, 0 to 6\n",
      "Data columns (total 3 columns):\n",
      " #   Column  Non-Null Count  Dtype \n",
      "---  ------  --------------  ----- \n",
      " 0   0       7 non-null      object\n",
      " 1   1       7 non-null      object\n",
      " 2   2       6 non-null      object\n",
      "dtypes: object(3)\n",
      "memory usage: 300.0+ bytes\n"
     ]
    }
   ],
   "source": [
    "import psycopg2\n",
    "import numpy as np\n",
    "import pandas as pd\n",
    "\n",
    "##\n",
    "## credentials\n",
    "##\n",
    "\n",
    "db = 'challenge'\n",
    "usr = 'postgres'\n",
    "pas = 'admin'\n",
    "host_ = 'localhost'\n",
    "port_ = '5432'\n",
    "query1 = 'SELECT * FROM TRIPS.TRAVEL_MODE'\n",
    "\n",
    "##\n",
    "## connection to database\n",
    "##\n",
    "\n",
    "conn = psycopg2.connect(\n",
    "    database = db,\n",
    "    user = usr,\n",
    "    password = pas,\n",
    "    host = host_,\n",
    "    port = port_\n",
    ")\n",
    "\n",
    "\n",
    "##\n",
    "## cursor creation + extract data\n",
    "##\n",
    "\n",
    "def extraction(query):\n",
    "    try:\n",
    "        cursor = conn.cursor()\n",
    "        cursor.execute(query)\n",
    "        return cursor.fetchall()\n",
    "    \n",
    "    finally:\n",
    "        cursor.close()\n",
    "\n",
    "\n",
    "rows = extraction(query1)\n",
    "\n",
    "\n",
    "travel_mode = pd.DataFrame(rows)\n",
    "travel_mode.info()"
   ]
  }
 ],
 "metadata": {
  "kernelspec": {
   "display_name": "Python 3",
   "language": "python",
   "name": "python3"
  },
  "language_info": {
   "codemirror_mode": {
    "name": "ipython",
    "version": 3
   },
   "file_extension": ".py",
   "mimetype": "text/x-python",
   "name": "python",
   "nbconvert_exporter": "python",
   "pygments_lexer": "ipython3",
   "version": "3.0.0"
  }
 },
 "nbformat": 4,
 "nbformat_minor": 2
}
